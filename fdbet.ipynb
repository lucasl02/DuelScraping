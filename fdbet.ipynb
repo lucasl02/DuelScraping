{
  "cells": [
    {
      "cell_type": "markdown",
      "metadata": {
        "id": "do59TJf9tyUc"
      },
      "source": [
        "### Web Scraping Intro\n",
        "Web Scraping = Request HTML File + Parse HTML File\n",
        "\n",
        "HTML = Information\n",
        "CSS = Styling\n",
        "JS = Interactions"
      ]
    },
    {
      "cell_type": "code",
      "execution_count": null,
      "metadata": {
        "id": "fKhkcjzutlzl"
      },
      "outputs": [],
      "source": [
        "''' Get Information from Link'''\n",
        "import requests\n",
        "\n",
        "url = 'https://en.wikipedia.org/wiki/Canberra'\n",
        "url_fd = 'https://sportsbook.fanduel.com/'\n",
        "response = requests.get(url_fd)"
      ]
    },
    {
      "cell_type": "code",
      "execution_count": null,
      "metadata": {
        "colab": {
          "base_uri": "https://localhost:8080/"
        },
        "id": "k7JOD_q_torv",
        "outputId": "fa23f34c-2b7f-4063-e2d4-ffabcebcfa54"
      },
      "outputs": [
        {
          "data": {
            "text/plain": [
              "<Response [403]>"
            ]
          },
          "execution_count": 21,
          "metadata": {},
          "output_type": "execute_result"
        }
      ],
      "source": [
        "response"
      ]
    },
    {
      "cell_type": "markdown",
      "metadata": {
        "id": "i9ZnrWKZucm1"
      },
      "source": [
        "The HTML can be retrieved in the text attribute of the response object\n"
      ]
    },
    {
      "cell_type": "code",
      "execution_count": null,
      "metadata": {
        "colab": {
          "base_uri": "https://localhost:8080/"
        },
        "id": "IkT1RIwOtqEi",
        "outputId": "a30c148e-c7af-4692-8ddd-348665a27472"
      },
      "outputs": [
        {
          "name": "stdout",
          "output_type": "stream",
          "text": [
            "<!DOCTYPE html>\n",
            "<html lang=\"en\">\n",
            "<head>\n",
            "    <meta charset=\"utf-8\">\n",
            "    <meta name=\"viewport\" content\n"
          ]
        }
      ],
      "source": [
        "html = response.text\n",
        "print(html[:100])\n"
      ]
    },
    {
      "cell_type": "code",
      "execution_count": null,
      "metadata": {
        "id": "VYcEOK_SuZz-"
      },
      "outputs": [],
      "source": [
        "def get_html(url):\n",
        "    response = requests.get(url)\n",
        "    #assert response.ok, \"Whoops, this request didn't go as planned!\"\n",
        "    html = response.text\n",
        "    return html\n",
        "\n",
        "html = get_html(url_fd)"
      ]
    },
    {
      "cell_type": "code",
      "execution_count": null,
      "metadata": {
        "colab": {
          "base_uri": "https://localhost:8080/"
        },
        "id": "-qttETUHu7d5",
        "outputId": "cfcad019-a975-424d-8b4d-0248de6e5550"
      },
      "outputs": [
        {
          "name": "stdout",
          "output_type": "stream",
          "text": [
            "<html\n"
          ]
        }
      ],
      "source": [
        "print(html[:5])"
      ]
    },
    {
      "cell_type": "markdown",
      "metadata": {
        "id": "j4usSm8rxyUg"
      },
      "source": [
        "This approach doesn't work. Fanduel uses a defense system - PerimeterX - that will catch any bots. The request library doesn't actually run the javascript files on the page which is what PerimeterX is flagging. To bypass this, need to use Selenium.\n",
        "\n",
        "Selenium actually navigates to the webpage and runs all the javascript files, mimicking a human. Can still use Selenium to retrieve html files."
      ]
    },
    {
      "cell_type": "code",
      "execution_count": null,
      "metadata": {
        "colab": {
          "background_save": true,
          "base_uri": "https://localhost:8080/"
        },
        "id": "dg0G74mQ0UHx",
        "outputId": "bb1c95e1-89b7-4195-e76e-263a1a45027d"
      },
      "outputs": [
        {
          "name": "stdout",
          "output_type": "stream",
          "text": [
            "Requirement already satisfied: selenium in /usr/local/lib/python3.11/dist-packages (4.29.0)\n",
            "Requirement already satisfied: urllib3<3,>=1.26 in /usr/local/lib/python3.11/dist-packages (from urllib3[socks]<3,>=1.26->selenium) (2.3.0)\n",
            "Requirement already satisfied: trio~=0.17 in /usr/local/lib/python3.11/dist-packages (from selenium) (0.29.0)\n",
            "Requirement already satisfied: trio-websocket~=0.9 in /usr/local/lib/python3.11/dist-packages (from selenium) (0.12.1)\n",
            "Requirement already satisfied: certifi>=2021.10.8 in /usr/local/lib/python3.11/dist-packages (from selenium) (2025.1.31)\n",
            "Requirement already satisfied: typing_extensions~=4.9 in /usr/local/lib/python3.11/dist-packages (from selenium) (4.12.2)\n",
            "Requirement already satisfied: websocket-client~=1.8 in /usr/local/lib/python3.11/dist-packages (from selenium) (1.8.0)\n",
            "Requirement already satisfied: attrs>=23.2.0 in /usr/local/lib/python3.11/dist-packages (from trio~=0.17->selenium) (25.1.0)\n",
            "Requirement already satisfied: sortedcontainers in /usr/local/lib/python3.11/dist-packages (from trio~=0.17->selenium) (2.4.0)\n",
            "Requirement already satisfied: idna in /usr/local/lib/python3.11/dist-packages (from trio~=0.17->selenium) (3.10)\n",
            "Requirement already satisfied: outcome in /usr/local/lib/python3.11/dist-packages (from trio~=0.17->selenium) (1.3.0.post0)\n",
            "Requirement already satisfied: sniffio>=1.3.0 in /usr/local/lib/python3.11/dist-packages (from trio~=0.17->selenium) (1.3.1)\n",
            "Requirement already satisfied: wsproto>=0.14 in /usr/local/lib/python3.11/dist-packages (from trio-websocket~=0.9->selenium) (1.2.0)\n",
            "Requirement already satisfied: pysocks!=1.5.7,<2.0,>=1.5.6 in /usr/local/lib/python3.11/dist-packages (from urllib3[socks]<3,>=1.26->selenium) (1.7.1)\n",
            "Requirement already satisfied: h11<1,>=0.9.0 in /usr/local/lib/python3.11/dist-packages (from wsproto>=0.14->trio-websocket~=0.9->selenium) (0.14.0)\n",
            "Hit:1 http://archive.ubuntu.com/ubuntu jammy InRelease\n",
            "Hit:2 http://archive.ubuntu.com/ubuntu jammy-updates InRelease\n",
            "Hit:3 http://archive.ubuntu.com/ubuntu jammy-backports InRelease\n",
            "Hit:4 https://cloud.r-project.org/bin/linux/ubuntu jammy-cran40/ InRelease\n",
            "Hit:5 https://developer.download.nvidia.com/compute/cuda/repos/ubuntu2204/x86_64  InRelease\n",
            "Hit:6 http://security.ubuntu.com/ubuntu jammy-security InRelease\n",
            "Hit:7 https://r2u.stat.illinois.edu/ubuntu jammy InRelease\n",
            "Hit:8 https://ppa.launchpadcontent.net/deadsnakes/ppa/ubuntu jammy InRelease\n",
            "Hit:9 https://ppa.launchpadcontent.net/graphics-drivers/ppa/ubuntu jammy InRelease\n",
            "Hit:10 https://ppa.launchpadcontent.net/ubuntugis/ppa/ubuntu jammy InRelease\n",
            "Reading package lists... Done\n",
            "W: Skipping acquire of configured file 'main/source/Sources' as repository 'https://r2u.stat.illinois.edu/ubuntu jammy InRelease' does not seem to provide it (sources.list entry misspelt?)\n",
            "Reading package lists... Done\n",
            "Building dependency tree... Done\n",
            "Reading state information... Done\n",
            "chromium-chromedriver is already the newest version (1:85.0.4183.83-0ubuntu2.22.04.1).\n",
            "0 upgraded, 0 newly installed, 0 to remove and 35 not upgraded.\n",
            "cp: '/usr/lib/chromium-browser/chromedriver' and '/usr/bin/chromedriver' are the same file\n"
          ]
        }
      ],
      "source": [
        "!pip install selenium\n",
        "# Make the chromedriver executable\n",
        "!chmod +x ./chromedriver\n",
        "\n",
        "# Additional setup for Colab environment\n",
        "!apt-get update\n",
        "!apt install chromium-chromedriver\n",
        "!cp /usr/lib/chromium-browser/chromedriver /usr/bin"
      ]
    },
    {
      "cell_type": "code",
      "execution_count": null,
      "metadata": {
        "id": "6BIZ2qwZvs83"
      },
      "outputs": [],
      "source": [
        "import selenium\n",
        "import time\n",
        "import random\n",
        "from selenium import webdriver\n",
        "from selenium.webdriver.common.keys import Keys\n",
        "from selenium.webdriver.chrome.options import Options\n",
        "\n",
        "\n"
      ]
    },
    {
      "cell_type": "code",
      "execution_count": null,
      "metadata": {
        "id": "R98eGIQBzxmE"
      },
      "outputs": [],
      "source": [
        "# Enhanced Chrome options\n",
        "chrome_options = Options()\n",
        "\n",
        "# Randomize user agent from a small pool\n",
        "user_agents = [\n",
        "    \"Mozilla/5.0 (Windows NT 10.0; Win64; x64) AppleWebKit/537.36 (KHTML, like Gecko) Chrome/121.0.0.0 Safari/537.36\",\n",
        "    \"Mozilla/5.0 (Macintosh; Intel Mac OS X 10_15_7) AppleWebKit/605.1.15 (KHTML, like Gecko) Version/17.3 Safari/605.1.15\",\n",
        "    \"Mozilla/5.0 (X11; Linux x86_64) AppleWebKit/537.36 (KHTML, like Gecko) Chrome/120.0.0.0 Safari/537.36\"\n",
        "]\n",
        "chrome_options.add_argument(f\"--user-agent={random.choice(user_agents)}\")\n",
        "\n",
        "# Additional options to avoid detection\n",
        "chrome_options.add_argument(\"--disable-blink-features=AutomationControlled\")\n",
        "chrome_options.add_argument(\"--disable-dev-shm-usage\")\n",
        "chrome_options.add_experimental_option(\"excludeSwitches\", [\"enable-automation\"])\n",
        "chrome_options.add_experimental_option(\"useAutomationExtension\", False)\n",
        "chrome_options.add_argument(\"--window-size=1920,1080\")\n",
        "chrome_options.add_argument('--disable-dev-shm-usage')\n",
        "chrome_options.add_argument('--no-sandbox')\n",
        "\n",
        "\n"
      ]
    },
    {
      "cell_type": "code",
      "execution_count": null,
      "metadata": {
        "colab": {
          "base_uri": "https://localhost:8080/",
          "height": 758
        },
        "id": "PhE1G2T6z15O",
        "outputId": "4e29dd9d-1094-41f2-a35f-40c584888cda"
      },
      "outputs": [
        {
          "ename": "SessionNotCreatedException",
          "evalue": "Message: session not created: probably user data directory is already in use, please specify a unique value for --user-data-dir argument, or don't use --user-data-dir\nStacktrace:\n#0 0x593a4ec45bea <unknown>\n#1 0x593a4e6e37d0 <unknown>\n#2 0x593a4e71cc05 <unknown>\n#3 0x593a4e71896f <unknown>\n#4 0x593a4e7693a9 <unknown>\n#5 0x593a4e7688d6 <unknown>\n#6 0x593a4e75a863 <unknown>\n#7 0x593a4e726ac8 <unknown>\n#8 0x593a4e727c31 <unknown>\n#9 0x593a4ec0f18b <unknown>\n#10 0x593a4ec13112 <unknown>\n#11 0x593a4ebfc04c <unknown>\n#12 0x593a4ec13d04 <unknown>\n#13 0x593a4ebe04bf <unknown>\n#14 0x593a4ec34528 <unknown>\n#15 0x593a4ec346f9 <unknown>\n#16 0x593a4ec44a66 <unknown>\n#17 0x7e4918234ac3 <unknown>\n",
          "output_type": "error",
          "traceback": [
            "\u001b[0;31m---------------------------------------------------------------------------\u001b[0m",
            "\u001b[0;31mSessionNotCreatedException\u001b[0m                Traceback (most recent call last)",
            "\u001b[0;32m<ipython-input-80-f460b61680e0>\u001b[0m in \u001b[0;36m<cell line: 0>\u001b[0;34m()\u001b[0m\n\u001b[0;32m----> 1\u001b[0;31m \u001b[0mdriver\u001b[0m \u001b[0;34m=\u001b[0m \u001b[0mwebdriver\u001b[0m\u001b[0;34m.\u001b[0m\u001b[0mChrome\u001b[0m\u001b[0;34m(\u001b[0m\u001b[0moptions\u001b[0m\u001b[0;34m=\u001b[0m\u001b[0mchrome_options\u001b[0m\u001b[0;34m)\u001b[0m\u001b[0;34m\u001b[0m\u001b[0;34m\u001b[0m\u001b[0m\n\u001b[0m\u001b[1;32m      2\u001b[0m \u001b[0mdriver\u001b[0m\u001b[0;34m.\u001b[0m\u001b[0mget\u001b[0m\u001b[0;34m(\u001b[0m\u001b[0;34m'https://sportsbook.fanduel.com/'\u001b[0m\u001b[0;34m)\u001b[0m\u001b[0;34m\u001b[0m\u001b[0;34m\u001b[0m\u001b[0m\n\u001b[1;32m      3\u001b[0m \u001b[0mhtml\u001b[0m \u001b[0;34m=\u001b[0m \u001b[0mdriver\u001b[0m\u001b[0;34m.\u001b[0m\u001b[0mpage_source\u001b[0m\u001b[0;34m\u001b[0m\u001b[0;34m\u001b[0m\u001b[0m\n",
            "\u001b[0;32m/usr/local/lib/python3.11/dist-packages/selenium/webdriver/chrome/webdriver.py\u001b[0m in \u001b[0;36m__init__\u001b[0;34m(self, options, service, keep_alive)\u001b[0m\n\u001b[1;32m     43\u001b[0m         \u001b[0moptions\u001b[0m \u001b[0;34m=\u001b[0m \u001b[0moptions\u001b[0m \u001b[0;32mif\u001b[0m \u001b[0moptions\u001b[0m \u001b[0;32melse\u001b[0m \u001b[0mOptions\u001b[0m\u001b[0;34m(\u001b[0m\u001b[0;34m)\u001b[0m\u001b[0;34m\u001b[0m\u001b[0;34m\u001b[0m\u001b[0m\n\u001b[1;32m     44\u001b[0m \u001b[0;34m\u001b[0m\u001b[0m\n\u001b[0;32m---> 45\u001b[0;31m         super().__init__(\n\u001b[0m\u001b[1;32m     46\u001b[0m             \u001b[0mbrowser_name\u001b[0m\u001b[0;34m=\u001b[0m\u001b[0mDesiredCapabilities\u001b[0m\u001b[0;34m.\u001b[0m\u001b[0mCHROME\u001b[0m\u001b[0;34m[\u001b[0m\u001b[0;34m\"browserName\"\u001b[0m\u001b[0;34m]\u001b[0m\u001b[0;34m,\u001b[0m\u001b[0;34m\u001b[0m\u001b[0;34m\u001b[0m\u001b[0m\n\u001b[1;32m     47\u001b[0m             \u001b[0mvendor_prefix\u001b[0m\u001b[0;34m=\u001b[0m\u001b[0;34m\"goog\"\u001b[0m\u001b[0;34m,\u001b[0m\u001b[0;34m\u001b[0m\u001b[0;34m\u001b[0m\u001b[0m\n",
            "\u001b[0;32m/usr/local/lib/python3.11/dist-packages/selenium/webdriver/chromium/webdriver.py\u001b[0m in \u001b[0;36m__init__\u001b[0;34m(self, browser_name, vendor_prefix, options, service, keep_alive)\u001b[0m\n\u001b[1;32m     64\u001b[0m \u001b[0;34m\u001b[0m\u001b[0m\n\u001b[1;32m     65\u001b[0m         \u001b[0;32mtry\u001b[0m\u001b[0;34m:\u001b[0m\u001b[0;34m\u001b[0m\u001b[0;34m\u001b[0m\u001b[0m\n\u001b[0;32m---> 66\u001b[0;31m             \u001b[0msuper\u001b[0m\u001b[0;34m(\u001b[0m\u001b[0;34m)\u001b[0m\u001b[0;34m.\u001b[0m\u001b[0m__init__\u001b[0m\u001b[0;34m(\u001b[0m\u001b[0mcommand_executor\u001b[0m\u001b[0;34m=\u001b[0m\u001b[0mexecutor\u001b[0m\u001b[0;34m,\u001b[0m \u001b[0moptions\u001b[0m\u001b[0;34m=\u001b[0m\u001b[0moptions\u001b[0m\u001b[0;34m)\u001b[0m\u001b[0;34m\u001b[0m\u001b[0;34m\u001b[0m\u001b[0m\n\u001b[0m\u001b[1;32m     67\u001b[0m         \u001b[0;32mexcept\u001b[0m \u001b[0mException\u001b[0m\u001b[0;34m:\u001b[0m\u001b[0;34m\u001b[0m\u001b[0;34m\u001b[0m\u001b[0m\n\u001b[1;32m     68\u001b[0m             \u001b[0mself\u001b[0m\u001b[0;34m.\u001b[0m\u001b[0mquit\u001b[0m\u001b[0;34m(\u001b[0m\u001b[0;34m)\u001b[0m\u001b[0;34m\u001b[0m\u001b[0;34m\u001b[0m\u001b[0m\n",
            "\u001b[0;32m/usr/local/lib/python3.11/dist-packages/selenium/webdriver/remote/webdriver.py\u001b[0m in \u001b[0;36m__init__\u001b[0;34m(self, command_executor, keep_alive, file_detector, options, locator_converter, web_element_cls, client_config)\u001b[0m\n\u001b[1;32m    248\u001b[0m         \u001b[0mself\u001b[0m\u001b[0;34m.\u001b[0m\u001b[0m_authenticator_id\u001b[0m \u001b[0;34m=\u001b[0m \u001b[0;32mNone\u001b[0m\u001b[0;34m\u001b[0m\u001b[0;34m\u001b[0m\u001b[0m\n\u001b[1;32m    249\u001b[0m         \u001b[0mself\u001b[0m\u001b[0;34m.\u001b[0m\u001b[0mstart_client\u001b[0m\u001b[0;34m(\u001b[0m\u001b[0;34m)\u001b[0m\u001b[0;34m\u001b[0m\u001b[0;34m\u001b[0m\u001b[0m\n\u001b[0;32m--> 250\u001b[0;31m         \u001b[0mself\u001b[0m\u001b[0;34m.\u001b[0m\u001b[0mstart_session\u001b[0m\u001b[0;34m(\u001b[0m\u001b[0mcapabilities\u001b[0m\u001b[0;34m)\u001b[0m\u001b[0;34m\u001b[0m\u001b[0;34m\u001b[0m\u001b[0m\n\u001b[0m\u001b[1;32m    251\u001b[0m         \u001b[0mself\u001b[0m\u001b[0;34m.\u001b[0m\u001b[0m_fedcm\u001b[0m \u001b[0;34m=\u001b[0m \u001b[0mFedCM\u001b[0m\u001b[0;34m(\u001b[0m\u001b[0mself\u001b[0m\u001b[0;34m)\u001b[0m\u001b[0;34m\u001b[0m\u001b[0;34m\u001b[0m\u001b[0m\n\u001b[1;32m    252\u001b[0m \u001b[0;34m\u001b[0m\u001b[0m\n",
            "\u001b[0;32m/usr/local/lib/python3.11/dist-packages/selenium/webdriver/remote/webdriver.py\u001b[0m in \u001b[0;36mstart_session\u001b[0;34m(self, capabilities)\u001b[0m\n\u001b[1;32m    340\u001b[0m \u001b[0;34m\u001b[0m\u001b[0m\n\u001b[1;32m    341\u001b[0m         \u001b[0mcaps\u001b[0m \u001b[0;34m=\u001b[0m \u001b[0m_create_caps\u001b[0m\u001b[0;34m(\u001b[0m\u001b[0mcapabilities\u001b[0m\u001b[0;34m)\u001b[0m\u001b[0;34m\u001b[0m\u001b[0;34m\u001b[0m\u001b[0m\n\u001b[0;32m--> 342\u001b[0;31m         \u001b[0mresponse\u001b[0m \u001b[0;34m=\u001b[0m \u001b[0mself\u001b[0m\u001b[0;34m.\u001b[0m\u001b[0mexecute\u001b[0m\u001b[0;34m(\u001b[0m\u001b[0mCommand\u001b[0m\u001b[0;34m.\u001b[0m\u001b[0mNEW_SESSION\u001b[0m\u001b[0;34m,\u001b[0m \u001b[0mcaps\u001b[0m\u001b[0;34m)\u001b[0m\u001b[0;34m[\u001b[0m\u001b[0;34m\"value\"\u001b[0m\u001b[0;34m]\u001b[0m\u001b[0;34m\u001b[0m\u001b[0;34m\u001b[0m\u001b[0m\n\u001b[0m\u001b[1;32m    343\u001b[0m         \u001b[0mself\u001b[0m\u001b[0;34m.\u001b[0m\u001b[0msession_id\u001b[0m \u001b[0;34m=\u001b[0m \u001b[0mresponse\u001b[0m\u001b[0;34m.\u001b[0m\u001b[0mget\u001b[0m\u001b[0;34m(\u001b[0m\u001b[0;34m\"sessionId\"\u001b[0m\u001b[0;34m)\u001b[0m\u001b[0;34m\u001b[0m\u001b[0;34m\u001b[0m\u001b[0m\n\u001b[1;32m    344\u001b[0m         \u001b[0mself\u001b[0m\u001b[0;34m.\u001b[0m\u001b[0mcaps\u001b[0m \u001b[0;34m=\u001b[0m \u001b[0mresponse\u001b[0m\u001b[0;34m.\u001b[0m\u001b[0mget\u001b[0m\u001b[0;34m(\u001b[0m\u001b[0;34m\"capabilities\"\u001b[0m\u001b[0;34m)\u001b[0m\u001b[0;34m\u001b[0m\u001b[0;34m\u001b[0m\u001b[0m\n",
            "\u001b[0;32m/usr/local/lib/python3.11/dist-packages/selenium/webdriver/remote/webdriver.py\u001b[0m in \u001b[0;36mexecute\u001b[0;34m(self, driver_command, params)\u001b[0m\n\u001b[1;32m    427\u001b[0m         \u001b[0mresponse\u001b[0m \u001b[0;34m=\u001b[0m \u001b[0mself\u001b[0m\u001b[0;34m.\u001b[0m\u001b[0mcommand_executor\u001b[0m\u001b[0;34m.\u001b[0m\u001b[0mexecute\u001b[0m\u001b[0;34m(\u001b[0m\u001b[0mdriver_command\u001b[0m\u001b[0;34m,\u001b[0m \u001b[0mparams\u001b[0m\u001b[0;34m)\u001b[0m\u001b[0;34m\u001b[0m\u001b[0;34m\u001b[0m\u001b[0m\n\u001b[1;32m    428\u001b[0m         \u001b[0;32mif\u001b[0m \u001b[0mresponse\u001b[0m\u001b[0;34m:\u001b[0m\u001b[0;34m\u001b[0m\u001b[0;34m\u001b[0m\u001b[0m\n\u001b[0;32m--> 429\u001b[0;31m             \u001b[0mself\u001b[0m\u001b[0;34m.\u001b[0m\u001b[0merror_handler\u001b[0m\u001b[0;34m.\u001b[0m\u001b[0mcheck_response\u001b[0m\u001b[0;34m(\u001b[0m\u001b[0mresponse\u001b[0m\u001b[0;34m)\u001b[0m\u001b[0;34m\u001b[0m\u001b[0;34m\u001b[0m\u001b[0m\n\u001b[0m\u001b[1;32m    430\u001b[0m             \u001b[0mresponse\u001b[0m\u001b[0;34m[\u001b[0m\u001b[0;34m\"value\"\u001b[0m\u001b[0;34m]\u001b[0m \u001b[0;34m=\u001b[0m \u001b[0mself\u001b[0m\u001b[0;34m.\u001b[0m\u001b[0m_unwrap_value\u001b[0m\u001b[0;34m(\u001b[0m\u001b[0mresponse\u001b[0m\u001b[0;34m.\u001b[0m\u001b[0mget\u001b[0m\u001b[0;34m(\u001b[0m\u001b[0;34m\"value\"\u001b[0m\u001b[0;34m,\u001b[0m \u001b[0;32mNone\u001b[0m\u001b[0;34m)\u001b[0m\u001b[0;34m)\u001b[0m\u001b[0;34m\u001b[0m\u001b[0;34m\u001b[0m\u001b[0m\n\u001b[1;32m    431\u001b[0m             \u001b[0;32mreturn\u001b[0m \u001b[0mresponse\u001b[0m\u001b[0;34m\u001b[0m\u001b[0;34m\u001b[0m\u001b[0m\n",
            "\u001b[0;32m/usr/local/lib/python3.11/dist-packages/selenium/webdriver/remote/errorhandler.py\u001b[0m in \u001b[0;36mcheck_response\u001b[0;34m(self, response)\u001b[0m\n\u001b[1;32m    230\u001b[0m                 \u001b[0malert_text\u001b[0m \u001b[0;34m=\u001b[0m \u001b[0mvalue\u001b[0m\u001b[0;34m[\u001b[0m\u001b[0;34m\"alert\"\u001b[0m\u001b[0;34m]\u001b[0m\u001b[0;34m.\u001b[0m\u001b[0mget\u001b[0m\u001b[0;34m(\u001b[0m\u001b[0;34m\"text\"\u001b[0m\u001b[0;34m)\u001b[0m\u001b[0;34m\u001b[0m\u001b[0;34m\u001b[0m\u001b[0m\n\u001b[1;32m    231\u001b[0m             \u001b[0;32mraise\u001b[0m \u001b[0mexception_class\u001b[0m\u001b[0;34m(\u001b[0m\u001b[0mmessage\u001b[0m\u001b[0;34m,\u001b[0m \u001b[0mscreen\u001b[0m\u001b[0;34m,\u001b[0m \u001b[0mstacktrace\u001b[0m\u001b[0;34m,\u001b[0m \u001b[0malert_text\u001b[0m\u001b[0;34m)\u001b[0m  \u001b[0;31m# type: ignore[call-arg]  # mypy is not smart enough here\u001b[0m\u001b[0;34m\u001b[0m\u001b[0;34m\u001b[0m\u001b[0m\n\u001b[0;32m--> 232\u001b[0;31m         \u001b[0;32mraise\u001b[0m \u001b[0mexception_class\u001b[0m\u001b[0;34m(\u001b[0m\u001b[0mmessage\u001b[0m\u001b[0;34m,\u001b[0m \u001b[0mscreen\u001b[0m\u001b[0;34m,\u001b[0m \u001b[0mstacktrace\u001b[0m\u001b[0;34m)\u001b[0m\u001b[0;34m\u001b[0m\u001b[0;34m\u001b[0m\u001b[0m\n\u001b[0m",
            "\u001b[0;31mSessionNotCreatedException\u001b[0m: Message: session not created: probably user data directory is already in use, please specify a unique value for --user-data-dir argument, or don't use --user-data-dir\nStacktrace:\n#0 0x593a4ec45bea <unknown>\n#1 0x593a4e6e37d0 <unknown>\n#2 0x593a4e71cc05 <unknown>\n#3 0x593a4e71896f <unknown>\n#4 0x593a4e7693a9 <unknown>\n#5 0x593a4e7688d6 <unknown>\n#6 0x593a4e75a863 <unknown>\n#7 0x593a4e726ac8 <unknown>\n#8 0x593a4e727c31 <unknown>\n#9 0x593a4ec0f18b <unknown>\n#10 0x593a4ec13112 <unknown>\n#11 0x593a4ebfc04c <unknown>\n#12 0x593a4ec13d04 <unknown>\n#13 0x593a4ebe04bf <unknown>\n#14 0x593a4ec34528 <unknown>\n#15 0x593a4ec346f9 <unknown>\n#16 0x593a4ec44a66 <unknown>\n#17 0x7e4918234ac3 <unknown>\n"
          ]
        }
      ],
      "source": [
        "driver = webdriver.Chrome(options=chrome_options)\n",
        "driver.get('https://sportsbook.fanduel.com/')\n",
        "html = driver.page_source"
      ]
    },
    {
      "cell_type": "code",
      "execution_count": null,
      "metadata": {
        "colab": {
          "base_uri": "https://localhost:8080/",
          "height": 1000
        },
        "id": "ydG4pmUM1Rsk",
        "outputId": "1aae105e-d1b0-4b75-a630-1cf4526e7d84"
      },
      "outputs": [
        {
          "data": {
            "application/vnd.google.colaboratory.intrinsic+json": {
              "type": "string"
            },
            "text/plain": [
              "'<html lang=\"en\"><head>\\n    <meta charset=\"utf-8\">\\n    <meta name=\"viewport\" content=\"width=device-width, initial-scale=1\">\\n    <title>Access to this page has been denied.</title>\\n    <link href=\"https://fonts.googleapis.com/css?family=Open+Sans:300\" rel=\"stylesheet\">\\n    <style>\\n        html, body {\\n            margin: 0;\\n            padding: 0;\\n            font-family: \\'Open Sans\\', sans-serif;\\n            color: #000;\\n        }\\n\\n        a {\\n            color: #c5c5c5;\\n            text-decoration: none;\\n        }\\n\\n        .container {\\n            align-items: center;\\n            display: flex;\\n            flex: 1;\\n            justify-content: space-between;\\n            flex-direction: column;\\n            height: 100%;\\n        }\\n\\n        .container > div {\\n            width: 100%;\\n            display: flex;\\n            justify-content: center;\\n        }\\n\\n        .container > div > div {\\n            display: flex;\\n            width: 80%;\\n        }\\n\\n        .customer-logo-wrapper {\\n            padding-top: 2rem;\\n            flex-grow: 0;\\n            background-color: #fff;\\n            visibility: hidden;\\n        }\\n\\n        .customer-logo {\\n            border-bottom: 1px solid #000;\\n        }\\n\\n        .customer-logo > img {\\n            padding-bottom: 1rem;\\n            max-height: 50px;\\n            max-width: 100%;\\n        }\\n\\n        .page-title-wrapper {\\n            flex-grow: 2;\\n        }\\n\\n        .page-title {\\n            flex-direction: column-reverse;\\n        }\\n\\n        .content-wrapper {\\n            flex-grow: 5;\\n        }\\n\\n        .content {\\n            flex-direction: column;\\n        }\\n\\n        .page-footer-wrapper {\\n            align-items: center;\\n            flex-grow: 0.2;\\n            background-color: #000;\\n            color: #c5c5c5;\\n            font-size: 70%;\\n        }\\n\\n        @media (min-width: 768px) {\\n            html, body {\\n                height: 100%;\\n            }\\n        }\\n    </style>\\n    <!-- Custom CSS -->\\n    \\n<script src=\"/JMCVuBG8/captcha/captcha.js?a=c&amp;u=546c3182-efeb-11ef-a7f3-f06a31813f76&amp;v=&amp;m=0\"></script><style type=\"text/css\">.px-loader-wrapper {    display: flex;}@keyframes loadingEffect {    0% {        background-position: 0;    }    100% {        background-position: 60vw;    }}.px-inner-loading-area {    width: 310px;    height: 100px;    border-radius: 100px;    animation-name: loadingEffect;    animation-duration: 1.2s;    animation-iteration-count: infinite;    animation-timing-function: ease;    animation-fill-mode: forwards;    background: linear-gradient(to right, #f6f6f6 8%, #f0f0f0 18%, #f6f6f6 33%);}.px-loading-area {    width: 310px;    height: 100px;    margin: undefined;}</style><script src=\"https://client.px-cloud.net/PXJMCVuBG8/main.min.js\"></script></head>\\n\\n<body>\\n<section class=\"container\">\\n    <div class=\"customer-logo-wrapper\">\\n        <div class=\"customer-logo\">\\n            <img src=\"\" alt=\"Logo\">\\n        </div>\\n    </div>\\n    <div class=\"page-title-wrapper\">\\n        <div class=\"page-title\">\\n            <h1>Please verify you are a human</h1>\\n        </div>\\n    </div>\\n    <div class=\"content-wrapper\">\\n        <div class=\"content\">\\n\\n            <div id=\"px-captcha\" style=\"display: block; min-width: 310px;\"><iframe style=\"display: none; width: 100%; height: 100px; border: 0; -moz-user-select: none; -khtml-user-select: none; -webkit-user-select: none; -ms-user-select: none; user-select: none;\" token=\"6389c0f5eeaa725477e90141c0a37e5911238bb890453488313847966d64e7e17680a5b88c9d278db1f5c73ca94655fee7c66f8d5fec4ad17e5a8a68bc09259f\" title=\"Human verification challenge\"></iframe></div>\\n            <p>\\n                Access to this page has been denied because we believe you are using automation tools to browse the\\n                website.\\n            </p>\\n            <p>\\n                This may happen as a result of the following:\\n            </p>\\n            <ul>\\n                <li>\\n                    Javascript is disabled or blocked by an extension (ad blockers for example)\\n                </li>\\n                <li>\\n                    Your browser does not support cookies\\n                </li>\\n            </ul>\\n            <p>\\n                Please make sure that Javascript and cookies are enabled on your browser and that you are not blocking\\n                them from loading.\\n            </p>\\n            <p>\\n                Reference ID: #546c3182-efeb-11ef-a7f3-f06a31813f76\\n            </p>\\n        <div id=\"px-block-form-wrapper\"><div><style>#px-block-form-wrapper{width:400px;position:fixed;left:calc(50% - 200px);bottom:0;animation-name:formSlideIn;animation-duration:.5s;-webkit-animation-name:formSlideIn;-webkit-animation-duration:.5s}@keyframes formSlideIn{from{bottom:-500px}to{bottom:0}}@-webkit-keyframes formSlideIn{from{bottom:-500px}to{bottom:0}}#px-block-toggle-button{height:20px;background:#fff;color:#000;border-radius:3px;padding:10px;cursor:pointer;font-size:13px;text-align:center;width:270px;border:1px solid #000;font-weight:900;margin-left:75px;text-decoration:underline}#px-block-form{background:#f3f4f5;color:#000;border-radius:7px;font-size:12px;font-family:Heebo,\\'Open Sans\\',sans-serif}#px-buttons-container{display:flex;justify-content:flex-end}#px-buttons-container button{bottom:10px;cursor:pointer;align-self:flex-end;width:80px;height:30px;margin-left:20px;border-radius:20px;border:none}button#px-form-submit:disabled{background:#ddd;cursor:not-allowed;color:#000}#px-form-submit{background-color:#0091ff;color:#fff;box-shadow:0 1px 3px 0 rgba(0,0,0,.15)}#px-form-submit:hover{background-color:#0085eb}#px-form-cancel{background-color:#f3f4f5;color:#949ca6}#px-form-cancel:hover{background-color:#ebeced;box-shadow:0 2px 4px 0 rgba(0,0,0,.11)}div#px-form{color:#000;padding:15px}#px-form span#px-form-subtitle{color:#858c95}div#px-form-head{display:inline-block;color:#fff;background:#6a747f;border-top-left-radius:4px;border-top-right-radius:4px;font-size:16px;height:50px;width:100%}#copy-icon:hover path[id^=line]{stroke:#81858a}#px-reference-id{display:inline-flex;cursor:pointer}#px-form-title{margin:13px;display:inline-block}div#px-form textarea{width:300px;height:70px;max-height:200px;border-radius:7px;border:solid 1px #ebeced;margin-bottom:5px;resize:none;font-family:inherit;font-size:inherit}div#px-form div{margin-bottom:6px}#px-form-thank-you{background:#fff;color:#000;border:1px solid;border-color:#404040;border-radius:3px;height:35px;padding:5px 10px;text-align:center;width:330px;margin-left:24px}#px-form-thank-you div{font-size:15px;margin-top:4px}#px-form-thank-you span.checkmark{margin-right:8px;color:green;font-size:20px}div#px-form form h4{margin:30px 0 5px 7px}#px-form-close{width:20px;height:20px;position:relative;border-radius:2px;margin:15px;float:right;background:0 0;border:none;cursor:pointer}#px-form-close::after,#px-form-close::before{position:absolute;top:9px;left:0;content:\\'\\';display:block;width:20px;height:2px;background-color:#fff}#px-form-close::after{-webkit-transform:rotate(45deg);-moz-transform:rotate(45deg);-ms-transform:rotate(45deg);-o-transform:rotate(45deg);transform:rotate(45deg)}#px-form-close::before{-webkit-transform:rotate(-45deg);-moz-transform:rotate(-45deg);-ms-transform:rotate(-45deg);-o-transform:rotate(-45deg);transform:rotate(-45deg)}.px-block-item{margin:9px;padding:13px 25px 11px 25px;border-radius:7px;border:solid 1px #ebeced;background-color:#fff}#px-uuid-copy{color:#0b97ff;text-decoration:underline}form div{margin-top:10px;height:auto}form label{vertical-align:middle}input[id^=opt]{margin:2px;vertical-align:middle}@media (max-height:380px){#px-block-toggle-button{visibility:hidden}}@media (max-width:400px){#px-block-form-wrapper{width:96%;position:fixed;left:2%}#px-block-toggle-button{height:20px;background:#fff;color:#000;padding:3px;cursor:pointer;font-size:13px;text-align:center;border:none;font-weight:900;text-decoration:underline;margin-left:0;position:fixed;bottom:5px;right:10px;width:initial}#px-block-form{background:#f3f4f5;color:#000;border-radius:7px;height:auto;font-size:12px;font-family:Heebo,\\'Open Sans\\',sans-serif}div#px-form textarea{width:100%}#px-form-thank-you{background:#fff;color:#000;border:1px solid #404040;border-radius:3px;height:25px;padding:5px 10px;text-align:center;width:90%;margin-left:0}#px-form-thank-you div{font-size:15px;margin:auto}#px-form-thank-you span.checkmark{margin-right:8px;color:green;font-size:20px}.container{display:block;position:relative}.container .content-wrapper{padding-bottom:40px}.container .page-footer-wrapper{position:fixed;bottom:0}.container .content-wrapper .content{margin:0 auto}}</style><div id=\"px-block-toggle-button\" tabindex=\"0\" onclick=\"_pxToggleOpenForm(true)\" onkeyup=\"_pxToggleOpenForm(true, event)\" aria-label=\"Feedback form\">Report an issue</div><div hidden=\"\" id=\"px-block-form\"><div id=\"px-form-head\"><div id=\"px-form-title\">Report a problem</div><button onclick=\"_pxToggleOpenForm(!1)\" id=\"px-form-close\"></button></div><div id=\"px-form\"><span id=\"px-form-subtitle\">Experiencing issues with this page? please let us know:</span><div class=\"px-block-item\"><span id=\"px-form-item-ref-id\">You can contact us for assistance. You should use Ref ID</span><span>: <div id=\"px-reference-id\" onclick=\"_pxUuidCopyToClipboard()\"><div id=\"px-uuid-copy\">546c3182-efeb-11ef-a7f3-f06a31813f76</div>&nbsp; <svg xmlns=\"http://www.w3.org/2000/svg\" width=\"15\" height=\"16\" viewBox=\"0 0 15 16\" id=\"copy-icon\"><g fill=\"none\" fill-rule=\"evenodd\"><g><g><path d=\"M0 0H14.354V14.354H0z\" transform=\"translate(-121 -66) translate(121 67)\"></path><path id=\"line\" fill=\"#BDC1C7\" fill-rule=\"nonzero\" stroke=\"#BDC1C7\" stroke-width=\".4\" d=\"M10.765 12.554c0 .179 0 .384-.003.615-.007.656-.579 1.185-1.282 1.185H3.076c-.708 0-1.282-.536-1.282-1.196V4.787c0-.66.571-1.194 1.277-1.196l.64-.003.002.599-.64.002c-.352 0-.638.268-.638.598v8.37c0 .331.287.599.64.599H9.48c.352 0 .638-.264.641-.592.002-.23.004-.433.004-.61h.64z\" transform=\"translate(-121 -66) translate(121 67)\"></path><path id=\"line\" fill=\"#BDC1C7\" fill-rule=\"nonzero\" stroke=\"#BDC1C7\" stroke-width=\".4\" d=\"M9.625.598H6.682c-.354 0-.64.267-.641.597l-.017 8.373c-.001.33.285.599.64.6h6.408c.354 0 .64-.268.64-.599V3.864L9.626.598zM9.862 0l4.492 3.588V9.57c0 .66-.574 1.196-1.282 1.196H6.665c-.71 0-1.284-.537-1.282-1.198L5.4 1.194C5.4.534 5.975 0 6.682 0h3.18z\" transform=\"translate(-121 -66) translate(121 67)\"></path><path id=\"line\" fill=\"#BDC1C7\" fill-rule=\"nonzero\" stroke=\"#BDC1C7\" stroke-linejoin=\"round\" stroke-width=\".4\" d=\"M9.644 3.076L9.644 0.449 8.971 0 8.971 3.588 14.354 3.588 13.585 3.076z\" transform=\"translate(-121 -66) translate(121 67)\"></path></g></g></g></svg></div></span></div><div class=\"px-block-item\"><span id=\"px-form-item-options-title\">You can also send us your feedback:</span><form><div style=\"display:none\"><input onchange=\"_pxItemSelected()\" type=\"radio\" id=\"opt0\" name=\"px-report-reason\" value=\"-1\"> <label for=\"opt0\">I’m a bot</label></div><div><input onchange=\"_pxItemSelected()\" type=\"radio\" id=\"opt1\" name=\"px-report-reason\" value=\"1\"> <label for=\"opt1\" id=\"px-form-item-option-1\">I do not see where to confirm</label></div><div><input onchange=\"_pxItemSelected()\" type=\"radio\" id=\"opt2\" name=\"px-report-reason\" value=\"2\"> <label for=\"opt2\" id=\"px-form-item-option-2\">I keep getting the \"Please try again\" message</label></div><div><input onchange=\"_pxItemSelected()\" type=\"radio\" id=\"opt3\" name=\"px-report-reason\" value=\"3\"> <label for=\"opt3\" id=\"px-form-item-option-3\">Other (please elaborate below)</label></div><h4 id=\"px-form-textarea-title\">Experiencing other issues?</h4><textarea id=\"px-form-free-text\"></textarea></form><div id=\"px-buttons-container\"><button id=\"px-form-cancel\" onclick=\"_pxToggleOpenForm(!1)\">Cancel</button> <button disabled=\"disabled\" id=\"px-form-submit\" onclick=\"_pxSubmitForm()\">Send</button></div></div></div></div><div hidden=\"\" id=\"px-form-thank-you\"><div><span class=\"checkmark\">✓</span><span id=\"px-form-thank-you-text\">Thank you for the feedback</span></div></div></div></div></div>\\n    </div>\\n    <div class=\"page-footer-wrapper\">\\n        <div class=\"page-footer\">\\n            <p>\\n                Powered by\\n                <a href=\"https://www.perimeterx.com/whywasiblocked\">PerimeterX</a>\\n                , Inc.\\n            </p>\\n        </div>\\n    </div>\\n</section>\\n<!-- Px -->\\n<script>\\n    window._pxAppId = \\'PXJMCVuBG8\\';\\n    window._pxJsClientSrc = \\'/JMCVuBG8/init.js\\';\\n    window._pxFirstPartyEnabled = true;\\n    window._pxVid = \\'\\';\\n    window._pxUuid = \\'546c3182-efeb-11ef-a7f3-f06a31813f76\\';\\n    window._pxHostUrl = \\'/JMCVuBG8/xhr\\';\\n</script>\\n<script>\\n    var s = document.createElement(\\'script\\');\\n    s.src = \\'/JMCVuBG8/captcha/captcha.js?a=c&u=546c3182-efeb-11ef-a7f3-f06a31813f76&v=&m=0\\';\\n    var p = document.getElementsByTagName(\\'head\\')[0];\\n    p.insertBefore(s, null);\\n    if (true) {\\n        s.onerror = function () {\\n            s = document.createElement(\\'script\\');\\n            var suffixIndex = \\'/JMCVuBG8/captcha/captcha.js?a=c&u=546c3182-efeb-11ef-a7f3-f06a31813f76&v=&m=0\\'.indexOf(\\'captcha.js\\');\\n            var temperedBlockScript = \\'/JMCVuBG8/captcha/captcha.js?a=c&u=546c3182-efeb-11ef-a7f3-f06a31813f76&v=&m=0\\'.substring(suffixIndex);\\n            s.src = \\'//captcha.px-cdn.net/PXJMCVuBG8/\\' + temperedBlockScript;\\n            p.parentNode.insertBefore(s, p);\\n        };\\n    }\\n</script>\\n\\n<!-- Custom Script -->\\n\\n\\n\\n</body></html>'"
            ]
          },
          "execution_count": 63,
          "metadata": {},
          "output_type": "execute_result"
        }
      ],
      "source": []
    },
    {
      "cell_type": "code",
      "execution_count": null,
      "metadata": {
        "colab": {
          "base_uri": "https://localhost:8080/"
        },
        "id": "ZvZiKt3J1Wq2",
        "outputId": "9e35305d-a680-485b-989f-dece914f96d0"
      },
      "outputs": [
        {
          "name": "stdout",
          "output_type": "stream",
          "text": [
            "https://sportsbook.fanduel.com/\n"
          ]
        }
      ],
      "source": [
        "current_url = driver.current_url\n",
        "print(current_url)"
      ]
    },
    {
      "cell_type": "code",
      "source": [
        "# Install required packages\n",
        "!pip install selenium undetected-chromedriver\n",
        "\n",
        "# Install Chrome\n",
        "!apt-get update\n",
        "!apt install chromium-chromedriver\n",
        "!cp /usr/lib/chromium-browser/chromedriver /usr/bin\n"
      ],
      "metadata": {
        "colab": {
          "base_uri": "https://localhost:8080/"
        },
        "id": "HFJVWqmfH9hL",
        "outputId": "30b6b6d4-84c8-435d-b1f5-bbf9eb940511"
      },
      "execution_count": 87,
      "outputs": [
        {
          "output_type": "stream",
          "name": "stdout",
          "text": [
            "Requirement already satisfied: selenium in /usr/local/lib/python3.11/dist-packages (4.29.0)\n",
            "Requirement already satisfied: undetected-chromedriver in /usr/local/lib/python3.11/dist-packages (3.5.5)\n",
            "Requirement already satisfied: urllib3<3,>=1.26 in /usr/local/lib/python3.11/dist-packages (from urllib3[socks]<3,>=1.26->selenium) (2.3.0)\n",
            "Requirement already satisfied: trio~=0.17 in /usr/local/lib/python3.11/dist-packages (from selenium) (0.29.0)\n",
            "Requirement already satisfied: trio-websocket~=0.9 in /usr/local/lib/python3.11/dist-packages (from selenium) (0.12.1)\n",
            "Requirement already satisfied: certifi>=2021.10.8 in /usr/local/lib/python3.11/dist-packages (from selenium) (2025.1.31)\n",
            "Requirement already satisfied: typing_extensions~=4.9 in /usr/local/lib/python3.11/dist-packages (from selenium) (4.12.2)\n",
            "Requirement already satisfied: websocket-client~=1.8 in /usr/local/lib/python3.11/dist-packages (from selenium) (1.8.0)\n",
            "Requirement already satisfied: requests in /usr/local/lib/python3.11/dist-packages (from undetected-chromedriver) (2.32.3)\n",
            "Requirement already satisfied: websockets in /usr/local/lib/python3.11/dist-packages (from undetected-chromedriver) (14.2)\n",
            "Requirement already satisfied: attrs>=23.2.0 in /usr/local/lib/python3.11/dist-packages (from trio~=0.17->selenium) (25.1.0)\n",
            "Requirement already satisfied: sortedcontainers in /usr/local/lib/python3.11/dist-packages (from trio~=0.17->selenium) (2.4.0)\n",
            "Requirement already satisfied: idna in /usr/local/lib/python3.11/dist-packages (from trio~=0.17->selenium) (3.10)\n",
            "Requirement already satisfied: outcome in /usr/local/lib/python3.11/dist-packages (from trio~=0.17->selenium) (1.3.0.post0)\n",
            "Requirement already satisfied: sniffio>=1.3.0 in /usr/local/lib/python3.11/dist-packages (from trio~=0.17->selenium) (1.3.1)\n",
            "Requirement already satisfied: wsproto>=0.14 in /usr/local/lib/python3.11/dist-packages (from trio-websocket~=0.9->selenium) (1.2.0)\n",
            "Requirement already satisfied: pysocks!=1.5.7,<2.0,>=1.5.6 in /usr/local/lib/python3.11/dist-packages (from urllib3[socks]<3,>=1.26->selenium) (1.7.1)\n",
            "Requirement already satisfied: charset-normalizer<4,>=2 in /usr/local/lib/python3.11/dist-packages (from requests->undetected-chromedriver) (3.4.1)\n",
            "Requirement already satisfied: h11<1,>=0.9.0 in /usr/local/lib/python3.11/dist-packages (from wsproto>=0.14->trio-websocket~=0.9->selenium) (0.14.0)\n",
            "Hit:1 http://archive.ubuntu.com/ubuntu jammy InRelease\n",
            "Get:2 http://archive.ubuntu.com/ubuntu jammy-updates InRelease [128 kB]\n",
            "Hit:3 http://security.ubuntu.com/ubuntu jammy-security InRelease\n",
            "Hit:4 https://cloud.r-project.org/bin/linux/ubuntu jammy-cran40/ InRelease\n",
            "Get:5 http://archive.ubuntu.com/ubuntu jammy-backports InRelease [127 kB]\n",
            "Hit:6 https://developer.download.nvidia.com/compute/cuda/repos/ubuntu2204/x86_64  InRelease\n",
            "Hit:7 https://r2u.stat.illinois.edu/ubuntu jammy InRelease\n",
            "Hit:8 https://ppa.launchpadcontent.net/deadsnakes/ppa/ubuntu jammy InRelease\n",
            "Hit:9 https://ppa.launchpadcontent.net/graphics-drivers/ppa/ubuntu jammy InRelease\n",
            "Get:10 http://archive.ubuntu.com/ubuntu jammy-updates/universe amd64 Packages [1,526 kB]\n",
            "Hit:11 https://ppa.launchpadcontent.net/ubuntugis/ppa/ubuntu jammy InRelease\n",
            "Get:12 http://archive.ubuntu.com/ubuntu jammy-updates/main amd64 Packages [2,939 kB]\n",
            "Fetched 4,720 kB in 2s (3,082 kB/s)\n",
            "Reading package lists... Done\n",
            "W: Skipping acquire of configured file 'main/source/Sources' as repository 'https://r2u.stat.illinois.edu/ubuntu jammy InRelease' does not seem to provide it (sources.list entry misspelt?)\n",
            "Reading package lists... Done\n",
            "Building dependency tree... Done\n",
            "Reading state information... Done\n",
            "chromium-chromedriver is already the newest version (1:85.0.4183.83-0ubuntu2.22.04.1).\n",
            "0 upgraded, 0 newly installed, 0 to remove and 35 not upgraded.\n",
            "cp: '/usr/lib/chromium-browser/chromedriver' and '/usr/bin/chromedriver' are the same file\n"
          ]
        }
      ]
    },
    {
      "cell_type": "code",
      "execution_count": 97,
      "metadata": {
        "id": "2D1b6Is51vLs"
      },
      "outputs": [],
      "source": [
        "\n",
        "# Import libraries\n",
        "from selenium import webdriver\n",
        "from selenium.webdriver.chrome.service import Service\n",
        "import undetected_chromedriver as uc\n",
        "from selenium.webdriver.common.by import By\n",
        "from selenium.webdriver.support.ui import WebDriverWait\n",
        "from selenium.webdriver.support import expected_conditions as EC\n",
        "import time\n",
        "import random\n",
        "from selenium.webdriver.common.action_chains import ActionChains\n",
        "!chmod +x /content/chromedriver"
      ]
    },
    {
      "cell_type": "code",
      "source": [
        "# Configure Chrome options\n",
        "chrome_options = Options()\n",
        "chrome_options.add_argument('--headless')\n",
        "chrome_options.add_argument('--no-sandbox')\n",
        "chrome_options.add_argument('--disable-dev-shm-usage')\n",
        "chrome_options.add_argument('--disable-gpu')\n",
        "chrome_options.add_argument('--disable-blink-features=AutomationControlled')\n",
        "chrome_options.add_argument('--user-agent=Mozilla/5.0 (Windows NT 10.0; Win64; x64) AppleWebKit/537.36 (KHTML, like Gecko) Chrome/90.0.4430.212 Safari/537.36')\n",
        "chrome_options.add_argument('--user-data-dir=/tmp/chrome-user-data-dir-' + str(random.randint(0, 1000000)))\n",
        "\n",
        "# Path to the uploaded chromedriver (update this path to where you uploaded it)\n",
        "chromedriver_path = '/content/chromedriver'  # Update this path\n",
        "\n",
        "# Initialize driver using the specified chromedriver\n",
        "try:\n",
        "    # Create a Service object with the specified path\n",
        "    service = Service(executable_path=chromedriver_path)\n",
        "\n",
        "    # Initialize the driver with the service and options\n",
        "    driver = webdriver.Chrome(service=service, options=chrome_options)\n",
        "\n",
        "    # Navigate to the URL\n",
        "    url = \"https://sportsbook.fanduel.com/basketball/nba\"\n",
        "    driver.get(url)\n",
        "    print(f\"Page title: {driver.title}\")\n",
        "\n",
        "    # More human-like behavior\n",
        "    time.sleep(random.uniform(4, 8))\n",
        "\n",
        "    # Simulate random scrolling\n",
        "    for _ in range(3):\n",
        "        scroll_amount = random.randint(200, 500)\n",
        "        driver.execute_script(f\"window.scrollBy(0, {scroll_amount})\")\n",
        "        time.sleep(random.uniform(2, 4))\n",
        "\n",
        "    # Wait for elements\n",
        "    wait = WebDriverWait(driver, 15)\n",
        "    # Add multiple potential selectors to try\n",
        "    selectors = [\n",
        "        \".v.z.al.y.cd.cn.t.h.bx\",\n",
        "        \".market-row\",\n",
        "        \"div[class*='MarketCardContainer']\",\n",
        "        \"div[data-test-id='BASKETBALL']\"\n",
        "    ]\n",
        "\n",
        "    target_elements = None\n",
        "    for selector in selectors:\n",
        "        try:\n",
        "            print(f\"Trying selector: {selector}\")\n",
        "            target_elements = wait.until(\n",
        "                EC.presence_of_all_elements_located((By.CSS_SELECTOR, selector))\n",
        "            )\n",
        "            print(f\"Found elements with selector: {selector}\")\n",
        "            break\n",
        "        except Exception as e:\n",
        "            print(f\"Selector {selector} failed: {e}\")\n",
        "\n",
        "    # Extract information\n",
        "    if target_elements:\n",
        "        print(f\"Found {len(target_elements)} elements\")\n",
        "        for i, element in enumerate(target_elements[:5]):  # Limit to first 5 for testing\n",
        "            print(f\"\\nElement {i+1}: {element.text[:100]}...\")  # Truncate long text\n",
        "    else:\n",
        "        # Fallback - take screenshot to debug\n",
        "        driver.save_screenshot(\"fanduel_page.png\")\n",
        "        print(\"No elements found with any selector. Screenshot saved.\")\n",
        "        # Try to get page source\n",
        "        print(\"\\nPage source preview:\")\n",
        "        print(driver.page_source[:500] + \"...\")\n",
        "\n",
        "except Exception as e:\n",
        "    print(f\"Error: {e}\")\n",
        "finally:\n",
        "    if 'driver' in locals():\n",
        "        driver.quit()"
      ],
      "metadata": {
        "colab": {
          "base_uri": "https://localhost:8080/"
        },
        "id": "ajxslhFbGcQL",
        "outputId": "fd00d5dd-4c9e-48cc-c13d-279d50f28d6e"
      },
      "execution_count": 98,
      "outputs": [
        {
          "output_type": "stream",
          "name": "stderr",
          "text": [
            "WARNING:urllib3.connectionpool:Retrying (Retry(total=2, connect=None, read=None, redirect=None, status=None)) after connection broken by 'NewConnectionError('<urllib3.connection.HTTPConnection object at 0x7a3065b78910>: Failed to establish a new connection: [Errno 111] Connection refused')': /session/93e438771c3d1c2a65d73892c20ca931\n",
            "WARNING:urllib3.connectionpool:Retrying (Retry(total=1, connect=None, read=None, redirect=None, status=None)) after connection broken by 'NewConnectionError('<urllib3.connection.HTTPConnection object at 0x7a3065c97d90>: Failed to establish a new connection: [Errno 111] Connection refused')': /session/93e438771c3d1c2a65d73892c20ca931\n",
            "WARNING:urllib3.connectionpool:Retrying (Retry(total=0, connect=None, read=None, redirect=None, status=None)) after connection broken by 'NewConnectionError('<urllib3.connection.HTTPConnection object at 0x7a3065c96310>: Failed to establish a new connection: [Errno 111] Connection refused')': /session/93e438771c3d1c2a65d73892c20ca931\n"
          ]
        },
        {
          "output_type": "stream",
          "name": "stdout",
          "text": [
            "Error: Message: session not created: probably user data directory is already in use, please specify a unique value for --user-data-dir argument, or don't use --user-data-dir\n",
            "Stacktrace:\n",
            "#0 0x59bb20bd8bea <unknown>\n",
            "#1 0x59bb206767d0 <unknown>\n",
            "#2 0x59bb206afc05 <unknown>\n",
            "#3 0x59bb206ab96f <unknown>\n",
            "#4 0x59bb206fc3a9 <unknown>\n",
            "#5 0x59bb206fb8d6 <unknown>\n",
            "#6 0x59bb206ed863 <unknown>\n",
            "#7 0x59bb206b9ac8 <unknown>\n",
            "#8 0x59bb206bac31 <unknown>\n",
            "#9 0x59bb20ba218b <unknown>\n",
            "#10 0x59bb20ba6112 <unknown>\n",
            "#11 0x59bb20b8f04c <unknown>\n",
            "#12 0x59bb20ba6d04 <unknown>\n",
            "#13 0x59bb20b734bf <unknown>\n",
            "#14 0x59bb20bc7528 <unknown>\n",
            "#15 0x59bb20bc76f9 <unknown>\n",
            "#16 0x59bb20bd7a66 <unknown>\n",
            "#17 0x7a84f6497ac3 <unknown>\n",
            "\n"
          ]
        }
      ]
    },
    {
      "cell_type": "code",
      "source": [],
      "metadata": {
        "id": "EiLvopcCJEVE"
      },
      "execution_count": null,
      "outputs": []
    }
  ],
  "metadata": {
    "colab": {
      "provenance": []
    },
    "kernelspec": {
      "display_name": "Python 3",
      "name": "python3"
    },
    "language_info": {
      "name": "python"
    }
  },
  "nbformat": 4,
  "nbformat_minor": 0
}